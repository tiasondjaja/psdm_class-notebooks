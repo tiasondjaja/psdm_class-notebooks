{
 "cells": [
  {
   "cell_type": "markdown",
   "metadata": {},
   "source": [
    "# Lesson 7: Sampling Distributions and the Central Limit Theorem\n",
    "\n",
    "Goals and Key Ideas:\n",
    "\n",
    "0. Statistical Inference\n",
    "1. Understanding Sample Averages and Sampling Distributions\n",
    "    + Simple Random Sample\n",
    "    + Population vs. Sample\n",
    "    + True Average vs. Sample Average (aka Sample Mean)\n",
    "    + Sampling distributions\n",
    "2. The Central Limit Theorem\n",
    "    + Review of important properties of the normal distribution\n",
    "    + Python tools for working with the normal distribution\n",
    "3. Confidence Intervals\n",
    "    + Computing confidence intervals\n",
    "    + Interpreting confidence intervals\n",
    "\n",
    "\n",
    "\n"
   ]
  },
  {
   "cell_type": "code",
   "execution_count": 66,
   "metadata": {},
   "outputs": [],
   "source": [
    "# load the libraries\n",
    "\n",
    "import pandas as pd\n",
    "import numpy as np\n",
    "import seaborn as sns"
   ]
  },
  {
   "cell_type": "markdown",
   "metadata": {},
   "source": [
    "## 1. Understanding Sample Averages and Sampling Distributions"
   ]
  },
  {
   "cell_type": "code",
   "execution_count": 89,
   "metadata": {},
   "outputs": [],
   "source": [
    "population_data = pd.DataFrame( data = {'num_sibs':[3,\n",
    "0,\n",
    "1,\n",
    "3,\n",
    "1,\n",
    "0,\n",
    "1,\n",
    "1,\n",
    "0,\n",
    "0,\n",
    "1,\n",
    "1,\n",
    "1,\n",
    "1,\n",
    "0,\n",
    "1,\n",
    "1,\n",
    "1,\n",
    "2,\n",
    "1,\n",
    "1,\n",
    "0,\n",
    "4,\n",
    "0,\n",
    "0,\n",
    "0,\n",
    "1,\n",
    "1,\n",
    "1,\n",
    "1,\n",
    "4,\n",
    "0,\n",
    "1,\n",
    "1,\n",
    "0,\n",
    "5,\n",
    "1,\n",
    "1,\n",
    "5,\n",
    "1,\n",
    "1,\n",
    "1,\n",
    "1,\n",
    "0,\n",
    "2,\n",
    "1,\n",
    "0,\n",
    "1,\n",
    "1,\n",
    "3,\n",
    "1,\n",
    "0,\n",
    "2,\n",
    "3,\n",
    "2,\n",
    "2,\n",
    "1,]  })"
   ]
  },
  {
   "cell_type": "code",
   "execution_count": 85,
   "metadata": {},
   "outputs": [
    {
     "data": {
      "text/html": [
       "<div>\n",
       "<style scoped>\n",
       "    .dataframe tbody tr th:only-of-type {\n",
       "        vertical-align: middle;\n",
       "    }\n",
       "\n",
       "    .dataframe tbody tr th {\n",
       "        vertical-align: top;\n",
       "    }\n",
       "\n",
       "    .dataframe thead th {\n",
       "        text-align: right;\n",
       "    }\n",
       "</style>\n",
       "<table border=\"1\" class=\"dataframe\">\n",
       "  <thead>\n",
       "    <tr style=\"text-align: right;\">\n",
       "      <th></th>\n",
       "      <th>num_sibs</th>\n",
       "    </tr>\n",
       "  </thead>\n",
       "  <tbody>\n",
       "    <tr>\n",
       "      <th>count</th>\n",
       "      <td>57.000000</td>\n",
       "    </tr>\n",
       "    <tr>\n",
       "      <th>mean</th>\n",
       "      <td>1.228070</td>\n",
       "    </tr>\n",
       "    <tr>\n",
       "      <th>std</th>\n",
       "      <td>1.210336</td>\n",
       "    </tr>\n",
       "    <tr>\n",
       "      <th>min</th>\n",
       "      <td>0.000000</td>\n",
       "    </tr>\n",
       "    <tr>\n",
       "      <th>25%</th>\n",
       "      <td>1.000000</td>\n",
       "    </tr>\n",
       "    <tr>\n",
       "      <th>50%</th>\n",
       "      <td>1.000000</td>\n",
       "    </tr>\n",
       "    <tr>\n",
       "      <th>75%</th>\n",
       "      <td>1.000000</td>\n",
       "    </tr>\n",
       "    <tr>\n",
       "      <th>max</th>\n",
       "      <td>5.000000</td>\n",
       "    </tr>\n",
       "  </tbody>\n",
       "</table>\n",
       "</div>"
      ],
      "text/plain": [
       "        num_sibs\n",
       "count  57.000000\n",
       "mean    1.228070\n",
       "std     1.210336\n",
       "min     0.000000\n",
       "25%     1.000000\n",
       "50%     1.000000\n",
       "75%     1.000000\n",
       "max     5.000000"
      ]
     },
     "execution_count": 85,
     "metadata": {},
     "output_type": "execute_result"
    }
   ],
   "source": [
    "population_data.describe()"
   ]
  },
  {
   "cell_type": "code",
   "execution_count": 69,
   "metadata": {},
   "outputs": [
    {
     "data": {
      "text/plain": [
       "<seaborn.axisgrid.FacetGrid at 0x7f16fdf3b750>"
      ]
     },
     "execution_count": 69,
     "metadata": {},
     "output_type": "execute_result"
    },
    {
     "data": {
      "image/png": "[encoded data removed]",
      "text/plain": [
       "<Figure size 360x360 with 1 Axes>"
      ]
     },
     "metadata": {
      "needs_background": "light"
     },
     "output_type": "display_data"
    }
   ],
   "source": [
    "sns.displot( data = population_data, x = 'num_sibs', bins=5)"
   ]
  },
  {
   "cell_type": "code",
   "execution_count": 86,
   "metadata": {},
   "outputs": [
    {
     "name": "stdout",
     "output_type": "stream",
     "text": [
      "1.2280701754385965\n",
      "1.1996716489318426\n"
     ]
    }
   ],
   "source": [
    "population_data.shape\n",
    "\n",
    "# we have a population of 57 students\n",
    "\n",
    "true_average = np.mean( population_data['num_sibs'] )\n",
    "true_std_dev = np.std( population_data['num_sibs'] )\n",
    "print(true_average)\n",
    "print(true_std_dev)"
   ]
  },
  {
   "cell_type": "code",
   "execution_count": 90,
   "metadata": {},
   "outputs": [
    {
     "data": {
      "text/plain": [
       "array([1, 0, 1, 0, 3, 0, 5])"
      ]
     },
     "execution_count": 90,
     "metadata": {},
     "output_type": "execute_result"
    }
   ],
   "source": [
    "sample1 = np.random.choice( population_data['num_sibs'] , 7, replace = False )\n",
    "sample1"
   ]
  },
  {
   "cell_type": "code",
   "execution_count": 91,
   "metadata": {},
   "outputs": [
    {
     "data": {
      "text/plain": [
       "1.4285714285714286"
      ]
     },
     "execution_count": 91,
     "metadata": {},
     "output_type": "execute_result"
    }
   ],
   "source": [
    "sample_average = np.mean(sample1)\n",
    "sample_average"
   ]
  },
  {
   "cell_type": "code",
   "execution_count": 73,
   "metadata": {},
   "outputs": [],
   "source": [
    "# repeated sampling results\n",
    "\n",
    "repeated_sampling = pd.read_csv('../../shared/datasets/lesson07_data1.csv')\n"
   ]
  },
  {
   "cell_type": "code",
   "execution_count": 74,
   "metadata": {},
   "outputs": [],
   "source": [
    "#remove outlier\n",
    "repeated_sampling_nooutlier = repeated_sampling[ repeated_sampling['sample_mean'] < 7 ]"
   ]
  },
  {
   "cell_type": "code",
   "execution_count": 75,
   "metadata": {},
   "outputs": [
    {
     "data": {
      "text/plain": [
       "(105, 2)"
      ]
     },
     "execution_count": 75,
     "metadata": {},
     "output_type": "execute_result"
    }
   ],
   "source": [
    "repeated_sampling_nooutlier.shape"
   ]
  },
  {
   "cell_type": "code",
   "execution_count": 76,
   "metadata": {},
   "outputs": [
    {
     "data": {
      "text/plain": [
       "<seaborn.axisgrid.FacetGrid at 0x7f16fe1ae650>"
      ]
     },
     "execution_count": 76,
     "metadata": {},
     "output_type": "execute_result"
    },
    {
     "data": {
      "image/png": "[encoded data removed]",
      "text/plain": [
       "<Figure size 360x360 with 1 Axes>"
      ]
     },
     "metadata": {
      "needs_background": "light"
     },
     "output_type": "display_data"
    }
   ],
   "source": [
    "# histogram to visualize the sampling distribution\n",
    "\n",
    "sns.displot( data = repeated_sampling_nooutlier , x ='sample_mean' , stat = 'density', bins = 10)"
   ]
  },
  {
   "cell_type": "code",
   "execution_count": 77,
   "metadata": {},
   "outputs": [
    {
     "data": {
      "text/html": [
       "<div>\n",
       "<style scoped>\n",
       "    .dataframe tbody tr th:only-of-type {\n",
       "        vertical-align: middle;\n",
       "    }\n",
       "\n",
       "    .dataframe tbody tr th {\n",
       "        vertical-align: top;\n",
       "    }\n",
       "\n",
       "    .dataframe thead th {\n",
       "        text-align: right;\n",
       "    }\n",
       "</style>\n",
       "<table border=\"1\" class=\"dataframe\">\n",
       "  <thead>\n",
       "    <tr style=\"text-align: right;\">\n",
       "      <th></th>\n",
       "      <th>sample_mean</th>\n",
       "    </tr>\n",
       "  </thead>\n",
       "  <tbody>\n",
       "    <tr>\n",
       "      <th>count</th>\n",
       "      <td>105.000000</td>\n",
       "    </tr>\n",
       "    <tr>\n",
       "      <th>mean</th>\n",
       "      <td>1.189827</td>\n",
       "    </tr>\n",
       "    <tr>\n",
       "      <th>std</th>\n",
       "      <td>0.424675</td>\n",
       "    </tr>\n",
       "    <tr>\n",
       "      <th>min</th>\n",
       "      <td>0.346000</td>\n",
       "    </tr>\n",
       "    <tr>\n",
       "      <th>25%</th>\n",
       "      <td>0.857140</td>\n",
       "    </tr>\n",
       "    <tr>\n",
       "      <th>50%</th>\n",
       "      <td>1.142000</td>\n",
       "    </tr>\n",
       "    <tr>\n",
       "      <th>75%</th>\n",
       "      <td>1.400000</td>\n",
       "    </tr>\n",
       "    <tr>\n",
       "      <th>max</th>\n",
       "      <td>2.500000</td>\n",
       "    </tr>\n",
       "  </tbody>\n",
       "</table>\n",
       "</div>"
      ],
      "text/plain": [
       "       sample_mean\n",
       "count   105.000000\n",
       "mean      1.189827\n",
       "std       0.424675\n",
       "min       0.346000\n",
       "25%       0.857140\n",
       "50%       1.142000\n",
       "75%       1.400000\n",
       "max       2.500000"
      ]
     },
     "execution_count": 77,
     "metadata": {},
     "output_type": "execute_result"
    }
   ],
   "source": [
    "repeated_sampling_nooutlier.describe()"
   ]
  },
  {
   "cell_type": "code",
   "execution_count": null,
   "metadata": {},
   "outputs": [],
   "source": []
  },
  {
   "cell_type": "code",
   "execution_count": null,
   "metadata": {},
   "outputs": [],
   "source": []
  },
  {
   "cell_type": "code",
   "execution_count": null,
   "metadata": {},
   "outputs": [],
   "source": []
  },
  {
   "cell_type": "code",
   "execution_count": null,
   "metadata": {},
   "outputs": [],
   "source": []
  },
  {
   "cell_type": "code",
   "execution_count": null,
   "metadata": {},
   "outputs": [],
   "source": []
  },
  {
   "cell_type": "markdown",
   "metadata": {},
   "source": [
    "## 2. Understanding the Central Limit Theorem"
   ]
  },
  {
   "cell_type": "code",
   "execution_count": 108,
   "metadata": {},
   "outputs": [
    {
     "data": {
      "text/plain": [
       "0.022750131948179195"
      ]
     },
     "execution_count": 108,
     "metadata": {},
     "output_type": "execute_result"
    }
   ],
   "source": [
    "# normal distribution with mean 0 and std deviation 1\n",
    "\n",
    "# what is the area under the curve to the left of -2\n",
    "\n",
    "import scipy\n",
    "scipy.stats.norm.cdf( -2 , 0, 1 )"
   ]
  },
  {
   "cell_type": "code",
   "execution_count": 109,
   "metadata": {},
   "outputs": [
    {
     "data": {
      "text/plain": [
       "0.9999999999999993"
      ]
     },
     "execution_count": 109,
     "metadata": {},
     "output_type": "execute_result"
    }
   ],
   "source": [
    "# what is the area under the curve to the left of 8\n",
    "\n",
    "scipy.stats.norm.cdf( 8 , 0, 1 )"
   ]
  },
  {
   "cell_type": "code",
   "execution_count": 110,
   "metadata": {},
   "outputs": [
    {
     "data": {
      "text/plain": [
       "0.15865525393145707"
      ]
     },
     "execution_count": 110,
     "metadata": {},
     "output_type": "execute_result"
    }
   ],
   "source": [
    "# what is the area under the curve to the left of -1\n",
    "\n",
    "scipy.stats.norm.cdf( -1 , 0, 1 )"
   ]
  },
  {
   "cell_type": "code",
   "execution_count": 111,
   "metadata": {},
   "outputs": [
    {
     "data": {
      "text/plain": [
       "0.8413447460685429"
      ]
     },
     "execution_count": 111,
     "metadata": {},
     "output_type": "execute_result"
    }
   ],
   "source": [
    "# what is the area under the curve to the left of 1\n",
    "\n",
    "scipy.stats.norm.cdf( 1 , 0, 1 )"
   ]
  },
  {
   "cell_type": "code",
   "execution_count": 112,
   "metadata": {},
   "outputs": [
    {
     "data": {
      "text/plain": [
       "0.6826894921370859"
      ]
     },
     "execution_count": 112,
     "metadata": {},
     "output_type": "execute_result"
    }
   ],
   "source": [
    "# what is the area under the curve to between -1 and 1\n",
    "\n",
    "scipy.stats.norm.cdf( 1 , 0, 1 ) - scipy.stats.norm.cdf( -1 , 0, 1 )"
   ]
  },
  {
   "cell_type": "code",
   "execution_count": 78,
   "metadata": {},
   "outputs": [
    {
     "data": {
      "text/plain": [
       "1.2815515655446004"
      ]
     },
     "execution_count": 78,
     "metadata": {},
     "output_type": "execute_result"
    }
   ],
   "source": [
    "# find the 90th percentile for normal distr with mean 0 and std 1\n",
    "\n",
    "scipy.stats.norm.ppf( 0.9, 0, 1)"
   ]
  },
  {
   "cell_type": "code",
   "execution_count": 79,
   "metadata": {},
   "outputs": [
    {
     "data": {
      "text/plain": [
       "3.0"
      ]
     },
     "execution_count": 79,
     "metadata": {},
     "output_type": "execute_result"
    }
   ],
   "source": [
    "# find the 50th percentile for normal distr with mean 3 and std 2\n",
    "\n",
    "scipy.stats.norm.ppf( 0.5, 3, 2)"
   ]
  },
  {
   "cell_type": "markdown",
   "metadata": {},
   "source": [
    "### Further Illustration of the Central Limit Theorem"
   ]
  },
  {
   "cell_type": "code",
   "execution_count": 63,
   "metadata": {},
   "outputs": [],
   "source": [
    "# don't worry about understanding this code cell.  The only purpose is to produce the graph below.\n",
    "\n",
    "N = 25 #sample size\n",
    "numrepeat = 10000\n",
    "sampling_distribution_df = pd.DataFrame( data = {'sample_means':np.zeros(numrepeat)})\n",
    "for i in np.arange(numrepeat):\n",
    "    sample = np.random.choice( population_data['num_sibs'], N, replace = False )\n",
    "    sampling_distribution_df['sample_means'][i] = np.mean(sample)    "
   ]
  },
  {
   "cell_type": "code",
   "execution_count": 64,
   "metadata": {},
   "outputs": [
    {
     "data": {
      "image/png": "[encoded data removed]",
      "text/plain": [
       "<Figure size 360x360 with 1 Axes>"
      ]
     },
     "metadata": {
      "needs_background": "light"
     },
     "output_type": "display_data"
    }
   ],
   "source": [
    "# don't worry about understanding this code cell.  The only purpose is to produce the graph below.\n",
    "import matplotlib.pyplot as plt\n",
    "import math\n",
    "import scipy\n",
    "sns.displot( data = sampling_distribution_df, x = 'sample_means', bins = 15, stat = 'density')\n",
    "\n",
    "mu = true_average\n",
    "sigma = true_std_dev/math.sqrt(N)\n",
    "x = np.linspace(mu - 3*sigma, mu + 3*sigma, 100)\n",
    "plt.plot(x, scipy.stats.norm.pdf(x, mu, sigma), 'red')\n",
    "plt.show()"
   ]
  },
  {
   "cell_type": "code",
   "execution_count": null,
   "metadata": {},
   "outputs": [],
   "source": []
  },
  {
   "cell_type": "code",
   "execution_count": null,
   "metadata": {},
   "outputs": [],
   "source": []
  },
  {
   "cell_type": "code",
   "execution_count": 80,
   "metadata": {},
   "outputs": [],
   "source": [
    "import scipy"
   ]
  },
  {
   "cell_type": "code",
   "execution_count": 81,
   "metadata": {},
   "outputs": [
    {
     "name": "stdout",
     "output_type": "stream",
     "text": [
      "-inf\n",
      "4.683242467145829\n"
     ]
    }
   ],
   "source": [
    "LOW = scipy.stats.norm.ppf( 0, 3 , 2)\n",
    "HIGH = scipy.stats.norm.ppf(0.8, 3, 2)\n",
    "\n",
    "print(LOW)\n",
    "print(HIGH)"
   ]
  },
  {
   "cell_type": "code",
   "execution_count": 82,
   "metadata": {},
   "outputs": [
    {
     "name": "stdout",
     "output_type": "stream",
     "text": [
      "0.43689686891079926\n",
      "5.563103131089201\n"
     ]
    }
   ],
   "source": [
    "LOW = scipy.stats.norm.ppf( 0.1, 3 , 2)\n",
    "HIGH = scipy.stats.norm.ppf(0.9, 3, 2)\n",
    "\n",
    "print(LOW)\n",
    "print(HIGH)"
   ]
  },
  {
   "cell_type": "code",
   "execution_count": 83,
   "metadata": {},
   "outputs": [
    {
     "name": "stdout",
     "output_type": "stream",
     "text": [
      "1.3167575328541716\n",
      "inf\n"
     ]
    }
   ],
   "source": [
    "LOW = scipy.stats.norm.ppf( 0.2, 3 , 2)\n",
    "HIGH = scipy.stats.norm.ppf(1, 3, 2)\n",
    "\n",
    "print(LOW)\n",
    "print(HIGH)"
   ]
  },
  {
   "cell_type": "code",
   "execution_count": null,
   "metadata": {},
   "outputs": [],
   "source": []
  },
  {
   "cell_type": "code",
   "execution_count": null,
   "metadata": {},
   "outputs": [],
   "source": []
  },
  {
   "cell_type": "code",
   "execution_count": null,
   "metadata": {},
   "outputs": [],
   "source": []
  },
  {
   "cell_type": "code",
   "execution_count": null,
   "metadata": {},
   "outputs": [],
   "source": []
  },
  {
   "cell_type": "code",
   "execution_count": null,
   "metadata": {},
   "outputs": [],
   "source": []
  },
  {
   "cell_type": "code",
   "execution_count": null,
   "metadata": {},
   "outputs": [],
   "source": []
  },
  {
   "cell_type": "markdown",
   "metadata": {},
   "source": [
    "## 3. Confidence Intervals"
   ]
  },
  {
   "cell_type": "code",
   "execution_count": 92,
   "metadata": {},
   "outputs": [
    {
     "data": {
      "text/plain": [
       "array([1, 4, 1, 5, 5, 2, 1])"
      ]
     },
     "execution_count": 92,
     "metadata": {},
     "output_type": "execute_result"
    }
   ],
   "source": [
    "sample1 = np.random.choice( population_data['num_sibs'] , 7, replace = False )\n",
    "sample1"
   ]
  },
  {
   "cell_type": "code",
   "execution_count": 94,
   "metadata": {},
   "outputs": [
    {
     "data": {
      "text/plain": [
       "2.7142857142857144"
      ]
     },
     "execution_count": 94,
     "metadata": {},
     "output_type": "execute_result"
    }
   ],
   "source": [
    "sample_mean = np.mean(sample1)\n",
    "sample_mean"
   ]
  },
  {
   "cell_type": "code",
   "execution_count": 95,
   "metadata": {},
   "outputs": [
    {
     "data": {
      "text/plain": [
       "1.749635530559413"
      ]
     },
     "execution_count": 95,
     "metadata": {},
     "output_type": "execute_result"
    }
   ],
   "source": [
    "sample_std_deviation = np.std(sample1)\n",
    "sample_std_deviation"
   ]
  },
  {
   "cell_type": "code",
   "execution_count": 98,
   "metadata": {},
   "outputs": [
    {
     "name": "stdout",
     "output_type": "stream",
     "text": [
      "1.418161391630371\n",
      "4.010410036941058\n"
     ]
    }
   ],
   "source": [
    "# a 95% confidence interval\n",
    "\n",
    "import math\n",
    "\n",
    "LOW = scipy.stats.norm.ppf( 0.025, sample_mean, sample_std_deviation / math.sqrt(7) )\n",
    "HIGH = scipy.stats.norm.ppf( 0.975, sample_mean, sample_std_deviation / math.sqrt(7) )\n",
    "\n",
    "print(LOW)\n",
    "print(HIGH)"
   ]
  },
  {
   "cell_type": "code",
   "execution_count": 99,
   "metadata": {},
   "outputs": [],
   "source": [
    "# Compute multiple 95% confidence intervals (via google form)\n",
    "# result:\n",
    "\n",
    "result = pd.read_csv('https://docs.google.com/spreadsheets/d/e/2PACX-1vTexKM9ltXfHsoRcSTe6ZGv6rG-Ba-nCMjLADlsD2Eqhklz2B4vks67fF0gZFBD8i5ZRXuIcs_5_UOh/pub?output=csv')"
   ]
  },
  {
   "cell_type": "code",
   "execution_count": 100,
   "metadata": {},
   "outputs": [
    {
     "data": {
      "text/html": [
       "<div>\n",
       "<style scoped>\n",
       "    .dataframe tbody tr th:only-of-type {\n",
       "        vertical-align: middle;\n",
       "    }\n",
       "\n",
       "    .dataframe tbody tr th {\n",
       "        vertical-align: top;\n",
       "    }\n",
       "\n",
       "    .dataframe thead th {\n",
       "        text-align: right;\n",
       "    }\n",
       "</style>\n",
       "<table border=\"1\" class=\"dataframe\">\n",
       "  <thead>\n",
       "    <tr style=\"text-align: right;\">\n",
       "      <th></th>\n",
       "      <th>Timestamp</th>\n",
       "      <th>sample_mean</th>\n",
       "      <th>sample_standard_deviation</th>\n",
       "      <th>LOW</th>\n",
       "      <th>HIGH</th>\n",
       "    </tr>\n",
       "  </thead>\n",
       "  <tbody>\n",
       "    <tr>\n",
       "      <th>0</th>\n",
       "      <td>3/25/2021 9:11:54</td>\n",
       "      <td>1.571429</td>\n",
       "      <td>1.049781</td>\n",
       "      <td>0.793754</td>\n",
       "      <td>2.349103</td>\n",
       "    </tr>\n",
       "    <tr>\n",
       "      <th>1</th>\n",
       "      <td>3/25/2021 9:12:11</td>\n",
       "      <td>1.142857</td>\n",
       "      <td>0.989743</td>\n",
       "      <td>0.409659</td>\n",
       "      <td>1.876056</td>\n",
       "    </tr>\n",
       "    <tr>\n",
       "      <th>2</th>\n",
       "      <td>3/25/2021 9:12:13</td>\n",
       "      <td>1.430000</td>\n",
       "      <td>1.500000</td>\n",
       "      <td>1.050000</td>\n",
       "      <td>2.540000</td>\n",
       "    </tr>\n",
       "    <tr>\n",
       "      <th>3</th>\n",
       "      <td>3/25/2021 9:12:12</td>\n",
       "      <td>0.857000</td>\n",
       "      <td>0.639000</td>\n",
       "      <td>0.384000</td>\n",
       "      <td>1.330000</td>\n",
       "    </tr>\n",
       "    <tr>\n",
       "      <th>4</th>\n",
       "      <td>3/25/2021 9:12:11</td>\n",
       "      <td>2.710000</td>\n",
       "      <td>1.749000</td>\n",
       "      <td>1.418000</td>\n",
       "      <td>4.010000</td>\n",
       "    </tr>\n",
       "    <tr>\n",
       "      <th>5</th>\n",
       "      <td>3/25/2021 9:12:13</td>\n",
       "      <td>0.428571</td>\n",
       "      <td>0.494872</td>\n",
       "      <td>0.061972</td>\n",
       "      <td>0.795171</td>\n",
       "    </tr>\n",
       "    <tr>\n",
       "      <th>6</th>\n",
       "      <td>3/25/2021 9:12:19</td>\n",
       "      <td>1.571429</td>\n",
       "      <td>1.498298</td>\n",
       "      <td>0.461494</td>\n",
       "      <td>2.636529</td>\n",
       "    </tr>\n",
       "    <tr>\n",
       "      <th>7</th>\n",
       "      <td>3/25/2021 9:12:23</td>\n",
       "      <td>1.285714</td>\n",
       "      <td>0.880631</td>\n",
       "      <td>0.633346</td>\n",
       "      <td>1.938083</td>\n",
       "    </tr>\n",
       "    <tr>\n",
       "      <th>8</th>\n",
       "      <td>3/25/2021 9:12:32</td>\n",
       "      <td>0.857000</td>\n",
       "      <td>0.349000</td>\n",
       "      <td>0.597000</td>\n",
       "      <td>1.110000</td>\n",
       "    </tr>\n",
       "    <tr>\n",
       "      <th>9</th>\n",
       "      <td>3/25/2021 9:12:36</td>\n",
       "      <td>0.430000</td>\n",
       "      <td>0.490000</td>\n",
       "      <td>0.060000</td>\n",
       "      <td>0.160000</td>\n",
       "    </tr>\n",
       "    <tr>\n",
       "      <th>10</th>\n",
       "      <td>3/25/2021 9:12:39</td>\n",
       "      <td>0.428000</td>\n",
       "      <td>0.494000</td>\n",
       "      <td>0.061900</td>\n",
       "      <td>0.795000</td>\n",
       "    </tr>\n",
       "    <tr>\n",
       "      <th>11</th>\n",
       "      <td>3/25/2021 9:12:42</td>\n",
       "      <td>1.570000</td>\n",
       "      <td>0.903000</td>\n",
       "      <td>0.902100</td>\n",
       "      <td>2.240000</td>\n",
       "    </tr>\n",
       "    <tr>\n",
       "      <th>12</th>\n",
       "      <td>3/25/2021 9:12:48</td>\n",
       "      <td>0.860000</td>\n",
       "      <td>0.640000</td>\n",
       "      <td>0.380000</td>\n",
       "      <td>1.330000</td>\n",
       "    </tr>\n",
       "    <tr>\n",
       "      <th>13</th>\n",
       "      <td>3/25/2021 9:12:51</td>\n",
       "      <td>1.428571</td>\n",
       "      <td>1.761261</td>\n",
       "      <td>0.123835</td>\n",
       "      <td>0.556127</td>\n",
       "    </tr>\n",
       "    <tr>\n",
       "      <th>14</th>\n",
       "      <td>3/25/2021 9:12:58</td>\n",
       "      <td>1.143000</td>\n",
       "      <td>0.989700</td>\n",
       "      <td>0.409658</td>\n",
       "      <td>1.876000</td>\n",
       "    </tr>\n",
       "    <tr>\n",
       "      <th>15</th>\n",
       "      <td>3/25/2021 9:13:07</td>\n",
       "      <td>2.700000</td>\n",
       "      <td>1.749000</td>\n",
       "      <td>1.148000</td>\n",
       "      <td>4.010000</td>\n",
       "    </tr>\n",
       "    <tr>\n",
       "      <th>16</th>\n",
       "      <td>3/25/2021 9:13:32</td>\n",
       "      <td>1.428571</td>\n",
       "      <td>1.178030</td>\n",
       "      <td>0.555890</td>\n",
       "      <td>0.010272</td>\n",
       "    </tr>\n",
       "    <tr>\n",
       "      <th>17</th>\n",
       "      <td>3/25/2021 9:13:56</td>\n",
       "      <td>5.000000</td>\n",
       "      <td>10.000000</td>\n",
       "      <td>0.000000</td>\n",
       "      <td>0.950000</td>\n",
       "    </tr>\n",
       "    <tr>\n",
       "      <th>18</th>\n",
       "      <td>3/25/2021 9:14:44</td>\n",
       "      <td>3.700000</td>\n",
       "      <td>2.740000</td>\n",
       "      <td>1.740000</td>\n",
       "      <td>4.000000</td>\n",
       "    </tr>\n",
       "    <tr>\n",
       "      <th>19</th>\n",
       "      <td>3/25/2021 9:15:31</td>\n",
       "      <td>1.714000</td>\n",
       "      <td>1.160000</td>\n",
       "      <td>0.855000</td>\n",
       "      <td>2.574000</td>\n",
       "    </tr>\n",
       "  </tbody>\n",
       "</table>\n",
       "</div>"
      ],
      "text/plain": [
       "            Timestamp  sample_mean  sample_standard_deviation       LOW  \\\n",
       "0   3/25/2021 9:11:54     1.571429                   1.049781  0.793754   \n",
       "1   3/25/2021 9:12:11     1.142857                   0.989743  0.409659   \n",
       "2   3/25/2021 9:12:13     1.430000                   1.500000  1.050000   \n",
       "3   3/25/2021 9:12:12     0.857000                   0.639000  0.384000   \n",
       "4   3/25/2021 9:12:11     2.710000                   1.749000  1.418000   \n",
       "5   3/25/2021 9:12:13     0.428571                   0.494872  0.061972   \n",
       "6   3/25/2021 9:12:19     1.571429                   1.498298  0.461494   \n",
       "7   3/25/2021 9:12:23     1.285714                   0.880631  0.633346   \n",
       "8   3/25/2021 9:12:32     0.857000                   0.349000  0.597000   \n",
       "9   3/25/2021 9:12:36     0.430000                   0.490000  0.060000   \n",
       "10  3/25/2021 9:12:39     0.428000                   0.494000  0.061900   \n",
       "11  3/25/2021 9:12:42     1.570000                   0.903000  0.902100   \n",
       "12  3/25/2021 9:12:48     0.860000                   0.640000  0.380000   \n",
       "13  3/25/2021 9:12:51     1.428571                   1.761261  0.123835   \n",
       "14  3/25/2021 9:12:58     1.143000                   0.989700  0.409658   \n",
       "15  3/25/2021 9:13:07     2.700000                   1.749000  1.148000   \n",
       "16  3/25/2021 9:13:32     1.428571                   1.178030  0.555890   \n",
       "17  3/25/2021 9:13:56     5.000000                  10.000000  0.000000   \n",
       "18  3/25/2021 9:14:44     3.700000                   2.740000  1.740000   \n",
       "19  3/25/2021 9:15:31     1.714000                   1.160000  0.855000   \n",
       "\n",
       "        HIGH  \n",
       "0   2.349103  \n",
       "1   1.876056  \n",
       "2   2.540000  \n",
       "3   1.330000  \n",
       "4   4.010000  \n",
       "5   0.795171  \n",
       "6   2.636529  \n",
       "7   1.938083  \n",
       "8   1.110000  \n",
       "9   0.160000  \n",
       "10  0.795000  \n",
       "11  2.240000  \n",
       "12  1.330000  \n",
       "13  0.556127  \n",
       "14  1.876000  \n",
       "15  4.010000  \n",
       "16  0.010272  \n",
       "17  0.950000  \n",
       "18  4.000000  \n",
       "19  2.574000  "
      ]
     },
     "execution_count": 100,
     "metadata": {},
     "output_type": "execute_result"
    }
   ],
   "source": [
    "result"
   ]
  },
  {
   "cell_type": "code",
   "execution_count": 106,
   "metadata": {},
   "outputs": [
    {
     "data": {
      "text/plain": [
       "0.8"
      ]
     },
     "execution_count": 106,
     "metadata": {},
     "output_type": "execute_result"
    }
   ],
   "source": [
    "# out of 20 confidence intervals, 4 do not contain the true average (1.22): rows 4, 15, 17, 18\n",
    "\n",
    "16/20  # 80% of the 20 95%-confidence intervals contain the true average\n",
    "\n",
    "# if we had more 95%-confidence intervals (e.g., 1000 instead of just 20)\n",
    "#      the proportion of all 95%-confidence intervals that contain the true average is going to be about 95%"
   ]
  },
  {
   "cell_type": "code",
   "execution_count": null,
   "metadata": {},
   "outputs": [],
   "source": []
  }
 ],
 "metadata": {
  "kernelspec": {
   "display_name": "Python [conda env:python_env]",
   "language": "python",
   "name": "conda-env-python_env-py"
  },
  "language_info": {
   "codemirror_mode": {
    "name": "ipython",
    "version": 3
   },
   "file_extension": ".py",
   "mimetype": "text/x-python",
   "name": "python",
   "nbconvert_exporter": "python",
   "pygments_lexer": "ipython3",
   "version": "3.7.9"
  }
 },
 "nbformat": 4,
 "nbformat_minor": 4
}
